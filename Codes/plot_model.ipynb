{
 "cells": [
  {
   "cell_type": "code",
   "execution_count": null,
   "metadata": {},
   "outputs": [],
   "source": [
    "import os\n",
    "# Selecting the GPU\n",
    "os.environ[\"CUDA_DEVICE_ORDER\"]=\"PCI_BUS_ID\"\n",
    "os.environ[\"CUDA_VISIBLE_DEVICES\"]=\"1\""
   ]
  },
  {
   "cell_type": "code",
   "execution_count": null,
   "metadata": {},
   "outputs": [],
   "source": [
    "import keras\n",
    "from my_cnn import my_cnn\n",
    "from readCSV import load2d\n",
    "from Confidence_Map import confidence_map\n",
    "import numpy as np\n",
    "from matplotlib import pyplot as pp\n",
    "pp.ion()"
   ]
  },
  {
   "cell_type": "code",
   "execution_count": null,
   "metadata": {},
   "outputs": [],
   "source": [
    "filepath = '/home/mehrdad/sample/mdl_2500.hdf5'\n",
    "Conv2D = keras.layers.Conv2D"
   ]
  },
  {
   "cell_type": "code",
   "execution_count": null,
   "metadata": {},
   "outputs": [],
   "source": [
    "x_train, y = load2d()\n",
    "mask, y_train = confidence_map(x_train, y)\n",
    "input0 = keras.layers.Input(shape=(x_train.shape[1], x_train.shape[2], x_train.shape[3]))\n",
    "input1 = keras.layers.Input(shape=(y_train.shape[1], y_train.shape[2], y_train.shape[3]))"
   ]
  },
  {
   "cell_type": "code",
   "execution_count": null,
   "metadata": {},
   "outputs": [],
   "source": [
    "model = my_cnn(input0, input1, x_train, y_train, mask)\n",
    "model.load_weights(filepath, by_name=False)\n",
    "pred = model.predict([x_train, mask])"
   ]
  },
  {
   "cell_type": "code",
   "execution_count": null,
   "metadata": {},
   "outputs": [],
   "source": [
    "pp.matshow(pred[0, :, :, 0])\n",
    "pp.colorbar()"
   ]
  },
  {
   "cell_type": "code",
   "execution_count": null,
   "metadata": {},
   "outputs": [],
   "source": [
    "pp.matshow(y_train[0, :, :, 0])\n",
    "pp.colorbar()"
   ]
  }
 ],
 "metadata": {
  "kernelspec": {
   "display_name": "Python 3",
   "language": "python",
   "name": "python3"
  },
  "language_info": {
   "codemirror_mode": {
    "name": "ipython",
    "version": 3
   },
   "file_extension": ".py",
   "mimetype": "text/x-python",
   "name": "python",
   "nbconvert_exporter": "python",
   "pygments_lexer": "ipython3",
   "version": "3.5.2"
  }
 },
 "nbformat": 4,
 "nbformat_minor": 2
}
